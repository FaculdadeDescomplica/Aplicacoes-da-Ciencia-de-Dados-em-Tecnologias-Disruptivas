{
  "cells": [
    {
      "cell_type": "markdown",
      "metadata": {
        "id": "WphYwticawOL"
      },
      "source": [
        "\n",
        "MedianFlow no Google Colab"
      ]
    },
    {
      "cell_type": "code",
      "execution_count": null,
      "metadata": {
        "colab": {
          "base_uri": "https://localhost:8080/",
          "height": 1000
        },
        "id": "Nt6-DYy1aAaY",
        "outputId": "f2802a03-1374-43a0-8532-03ccde20aa55"
      },
      "outputs": [],
      "source": [
        "import cv2\n",
        "from google.colab import files\n",
        "from google.colab.patches import cv2_imshow\n",
        "\n",
        "# Fazer upload de um vídeo\n",
        "uploaded = files.upload()\n",
        "\n",
        "# Obter o nome do vídeo carregado\n",
        "video_path = next(iter(uploaded))\n",
        "\n",
        "# Carregar o vídeo\n",
        "cap = cv2.VideoCapture(video_path)\n",
        "\n",
        "# Verificar se o vídeo foi carregado corretamente\n",
        "if not cap.isOpened():\n",
        "    print(\"Erro ao carregar o vídeo.\")\n",
        "else:\n",
        "    # Ler o primeiro frame do vídeo\n",
        "    ret, frame = cap.read()\n",
        "\n",
        "    if not ret:\n",
        "        print(\"Erro ao ler o primeiro frame.\")\n",
        "    else:\n",
        "        # Ajuste a região de interesse (ROI) de forma mais precisa\n",
        "        height, width, _ = frame.shape\n",
        "        bbox = (int(width * 0.3), int(height * 0.4), int(width * 0.4), int(height * 0.2))  # Ajuste baseado na proporção da imagem\n",
        "\n",
        "        # Inicializar o rastreador MedianFlow (usando a API legacy do OpenCV)\n",
        "        tracker = cv2.legacy.TrackerMedianFlow_create()\n",
        "        tracker.init(frame, bbox)\n",
        "\n",
        "        # Loop para rastrear o objeto ao longo do vídeo\n",
        "        while True:\n",
        "            ret, frame = cap.read()\n",
        "            if not ret:\n",
        "                break\n",
        "\n",
        "            # Atualizar o rastreamento\n",
        "            success, bbox = tracker.update(frame)\n",
        "\n",
        "            if success:\n",
        "                # Desenhar a caixa ao redor do objeto rastreado\n",
        "                p1 = (int(bbox[0]), int(bbox[1]))\n",
        "                p2 = (int(bbox[0] + bbox[2]), int(bbox[1] + bbox[3]))\n",
        "                cv2.rectangle(frame, p1, p2, (255, 0, 0), 2, 1)\n",
        "            else:\n",
        "                cv2.putText(frame, \"Rastreamento falhou\", (100, 80), cv2.FONT_HERSHEY_SIMPLEX, 0.75, (0, 0, 255), 2)\n",
        "\n",
        "            # Exibir o frame com a caixa delimitadora no Google Colab\n",
        "            cv2_imshow(frame)\n",
        "\n",
        "        cap.release()\n",
        "        cv2.destroyAllWindows()\n"
      ]
    },
    {
      "cell_type": "markdown",
      "metadata": {
        "id": "qpGnI-zqc6uj"
      },
      "source": [
        "Testando a Robustez do MedianFlow"
      ]
    },
    {
      "cell_type": "code",
      "source": [
        "!pip install opencv-contrib-python"
      ],
      "metadata": {
        "colab": {
          "base_uri": "https://localhost:8080/"
        },
        "id": "_JBpnZhDB5pw",
        "outputId": "cfca3c47-7801-4a3f-cf08-d4f4154347bd"
      },
      "execution_count": null,
      "outputs": [
        {
          "output_type": "stream",
          "name": "stdout",
          "text": [
            "Requirement already satisfied: opencv-contrib-python in /usr/local/lib/python3.10/dist-packages (4.10.0.84)\n",
            "Requirement already satisfied: numpy>=1.21.2 in /usr/local/lib/python3.10/dist-packages (from opencv-contrib-python) (1.26.4)\n"
          ]
        }
      ]
    },
    {
      "cell_type": "code",
      "execution_count": null,
      "metadata": {
        "colab": {
          "base_uri": "https://localhost:8080/",
          "height": 1000
        },
        "id": "vcHs5Wc3dxZA",
        "outputId": "cdd35efd-5a0d-4ec6-889a-c44d68192bd4"
      },
      "outputs": [],
      "source": [
        "# Instalar a versão correta do OpenCV\n",
        "!pip install --upgrade opencv-contrib-python-headless\n",
        "\n",
        "import cv2\n",
        "from google.colab import files\n",
        "from google.colab.patches import cv2_imshow\n",
        "\n",
        "# Fazer upload de um vídeo ou imagem para rastreamento\n",
        "uploaded = files.upload()\n",
        "\n",
        "# Obter o nome do vídeo carregado\n",
        "video_path = next(iter(uploaded))\n",
        "\n",
        "# Carregar o vídeo\n",
        "cap = cv2.VideoCapture(video_path)\n",
        "\n",
        "# Verificar se o vídeo foi carregado corretamente\n",
        "if not cap.isOpened():\n",
        "    print(\"Erro ao carregar o vídeo.\")\n",
        "else:\n",
        "    # Ler o primeiro frame do vídeo\n",
        "    ret, frame = cap.read()\n",
        "\n",
        "    if not ret:\n",
        "        print(\"Erro ao ler o primeiro frame.\")\n",
        "    else:\n",
        "        # Ajuste a região de interesse (ROI) de forma mais precisa\n",
        "        height, width, _ = frame.shape\n",
        "\n",
        "        # Definir a ROI com base na localização aproximada do objeto (neste exemplo, parte central)\n",
        "        bbox = (int(width * 0.3), int(height * 0.3), int(width * 0.3), int(height * 0.3))\n",
        "\n",
        "        # Corrigir o rastreador para usar o namespace correto\n",
        "        tracker = cv2.legacy.TrackerMedianFlow_create()\n",
        "        tracker.init(frame, bbox)\n",
        "\n",
        "        # Loop para rastrear o objeto ao longo do vídeo\n",
        "        while True:\n",
        "            ret, frame = cap.read()\n",
        "            if not ret:\n",
        "                break\n",
        "\n",
        "            # Atualizar o rastreamento\n",
        "            success, bbox = tracker.update(frame)\n",
        "\n",
        "            if success:\n",
        "                # Desenhar a caixa ao redor do objeto rastreado\n",
        "                p1 = (int(bbox[0]), int(bbox[1]))\n",
        "                p2 = (int(bbox[0] + bbox[2]), int(bbox[1] + bbox[3]))\n",
        "                cv2.rectangle(frame, p1, p2, (255, 0, 0), 2, 1)\n",
        "            else:\n",
        "                cv2.putText(frame, \"Rastreamento falhou\", (100, 80), cv2.FONT_HERSHEY_SIMPLEX, 0.75, (0, 0, 255), 2)\n",
        "\n",
        "            # Exibir o frame com a caixa delimitadora no Google Colab\n",
        "            cv2_imshow(frame)\n",
        "\n",
        "        cap.release()\n",
        "        cv2.destroyAllWindows()\n"
      ]
    }
  ],
  "metadata": {
    "colab": {
      "provenance": []
    },
    "kernelspec": {
      "display_name": "Python 3",
      "name": "python3"
    },
    "language_info": {
      "name": "python"
    }
  },
  "nbformat": 4,
  "nbformat_minor": 0
}